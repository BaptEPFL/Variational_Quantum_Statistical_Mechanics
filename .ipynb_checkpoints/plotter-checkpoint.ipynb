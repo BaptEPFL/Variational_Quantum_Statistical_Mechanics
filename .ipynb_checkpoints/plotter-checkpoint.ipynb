{
 "cells": [
  {
   "cell_type": "code",
   "execution_count": 15,
   "id": "282ef18b-0884-420c-9c89-a4a4c8553a63",
   "metadata": {},
   "outputs": [],
   "source": [
    "import numpy as np\n",
    "import matplotlib.pyplot as plt\n",
    "import json"
   ]
  },
  {
   "cell_type": "markdown",
   "id": "51f715a3-64ad-4b20-a7f0-8b1e713aeb39",
   "metadata": {},
   "source": [
    "# Filename"
   ]
  },
  {
   "cell_type": "code",
   "execution_count": 16,
   "id": "1d16390a-3463-4a90-a95a-3fa665962661",
   "metadata": {},
   "outputs": [],
   "source": [
    "filename = 'ising2D_2X5_spins.dat'\n",
    "data = json.load(open(filename))"
   ]
  },
  {
   "cell_type": "markdown",
   "id": "c4cf48f6-ad88-4ecd-92f9-b02445aa06b6",
   "metadata": {},
   "source": [
    "# Simulation"
   ]
  },
  {
   "cell_type": "code",
   "execution_count": 17,
   "id": "b44557c0-ace6-4d88-a8e0-83b3cca5724f",
   "metadata": {},
   "outputs": [
    {
     "name": "stdout",
     "output_type": "stream",
     "text": [
      "Model 2D pbc Ising model\n",
      "Number of spins 10\n",
      "Beta 5.0\n",
      "Optimizer sgd\n",
      "Gradient spsa\n",
      "Backend statevector_simulator\n",
      "Shots 8192\n",
      "Learning rate 0.001\n",
      "Number of layers 10\n",
      "Threshold 1e-06\n",
      "Final coupling 0.3333333333333333\n",
      "Ansatz Adiabatic_with_connectivity\n"
     ]
    }
   ],
   "source": [
    "print('Model', data['model'])\n",
    "print('Number of spins', data['nspins'])\n",
    "print('Beta', data['beta'])\n",
    "print('Optimizer', data['optimizer'])\n",
    "print('Gradient', data['gradient'])\n",
    "print('Backend', data['backend'])\n",
    "print('Shots', data['shots'])\n",
    "print('Learning rate', data['learning_rate'])\n",
    "print('Number of layers', data['nlayer'])\n",
    "print('Threshold', data['threshold'])\n",
    "print('Final coupling', data['final_coupling'])\n",
    "print('Ansatz', data['ansatz'])"
   ]
  },
  {
   "cell_type": "markdown",
   "id": "fe7cc217-a26a-4cc4-b0a1-4199e887c921",
   "metadata": {},
   "source": [
    "# Variational Energy"
   ]
  },
  {
   "cell_type": "code",
   "execution_count": 18,
   "id": "552728a0-9634-4335-9681-70fb6af6aae7",
   "metadata": {},
   "outputs": [
    {
     "name": "stdout",
     "output_type": "stream",
     "text": [
      "Final beta:  6.100498058535614\n"
     ]
    },
    {
     "data": {
      "text/plain": [
       "<matplotlib.legend.Legend at 0x10b2ab040>"
      ]
     },
     "execution_count": 18,
     "metadata": {},
     "output_type": "execute_result"
    },
    {
     "data": {
      "image/png": "[encoded data removed]",
      "text/plain": [
       "<Figure size 432x288 with 1 Axes>"
      ]
     },
     "metadata": {
      "needs_background": "light"
     },
     "output_type": "display_data"
    }
   ],
   "source": [
    "from analytic import *\n",
    "\n",
    "beta = data['beta']\n",
    "nspins = data['nspins']\n",
    "connectivity = data['connectivity']\n",
    "J = data['final_coupling']\n",
    "if data['model'] == \"1D pbc Ising model\" or data['model'] == \"2D pbc Ising model\":\n",
    "    exact, best = get_exact_and_best_for_ising(beta, nspins, final_parameters=(-J, -1.), connectivity=connectivity)\n",
    "if data['model'] == '2D pbc Heisenberg model':\n",
    "    exact, best = get_exact_and_best_for_heisenberg(beta, nspins, (J[0], J[1]), connectivity)\n",
    "exact, best = exact/nspins, best/nspins\n",
    "\n",
    "plt.figure()\n",
    "plt.plot([el/nspins for el in data['variational_energy']], 'b', label='Optimization')\n",
    "plt.xlabel('Optimization Step')\n",
    "plt.ylabel('Energy density')\n",
    "plt.grid()\n",
    "if data['model'] == \"1D pbc Ising model\" or data['model'] == \"2D pbc Ising model\" or data['model'] == '2D pbc Heisenberg model':\n",
    "    plt.hlines(best, color='r', xmin=0, xmax=len(data['variational_energy']), label='quasi-Gibbs')\n",
    "    plt.hlines(exact, color='k', xmin=0, xmax=len(data['variational_energy']), label='Gibbs')\n",
    "plt.legend()"
   ]
  },
  {
   "cell_type": "code",
   "execution_count": null,
   "id": "962546f9-0341-467e-92ca-c7da3c418966",
   "metadata": {},
   "outputs": [],
   "source": []
  },
  {
   "cell_type": "code",
   "execution_count": null,
   "id": "e995cd9d-3895-4569-a4d2-994d987e44d5",
   "metadata": {},
   "outputs": [],
   "source": []
  },
  {
   "cell_type": "code",
   "execution_count": null,
   "id": "3828fb5c-1d95-47f7-821b-1f18368129a0",
   "metadata": {},
   "outputs": [],
   "source": []
  },
  {
   "cell_type": "code",
   "execution_count": null,
   "id": "a7441365-e4a6-4d0d-a5b4-c09622cf32a7",
   "metadata": {},
   "outputs": [],
   "source": []
  },
  {
   "cell_type": "code",
   "execution_count": null,
   "id": "2f13054a-8e13-4a26-8fd5-8dbf0e893548",
   "metadata": {},
   "outputs": [],
   "source": []
  },
  {
   "cell_type": "code",
   "execution_count": null,
   "id": "74434302-e144-4809-8253-1e5f10ae366c",
   "metadata": {},
   "outputs": [],
   "source": []
  },
  {
   "cell_type": "code",
   "execution_count": null,
   "id": "51fe0c28-7d42-4933-b565-d67896a62890",
   "metadata": {},
   "outputs": [],
   "source": []
  },
  {
   "cell_type": "code",
   "execution_count": null,
   "id": "a808e2a0-563c-4ba2-8ce1-874a73fd6057",
   "metadata": {},
   "outputs": [],
   "source": []
  },
  {
   "cell_type": "code",
   "execution_count": null,
   "id": "0f19b259-79dc-4357-8924-b5159edb6755",
   "metadata": {},
   "outputs": [],
   "source": []
  }
 ],
 "metadata": {
  "kernelspec": {
   "display_name": "Python 3",
   "language": "python",
   "name": "python3"
  },
  "language_info": {
   "codemirror_mode": {
    "name": "ipython",
    "version": 3
   },
   "file_extension": ".py",
   "mimetype": "text/x-python",
   "name": "python",
   "nbconvert_exporter": "python",
   "pygments_lexer": "ipython3",
   "version": "3.9.2"
  }
 },
 "nbformat": 4,
 "nbformat_minor": 5
}
