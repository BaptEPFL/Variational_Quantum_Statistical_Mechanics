{
 "cells": [
  {
   "cell_type": "code",
   "execution_count": 64,
   "id": "282ef18b-0884-420c-9c89-a4a4c8553a63",
   "metadata": {},
   "outputs": [],
   "source": [
    "import numpy as np\n",
    "import matplotlib.pyplot as plt\n",
    "import json"
   ]
  },
  {
   "cell_type": "markdown",
   "id": "51f715a3-64ad-4b20-a7f0-8b1e713aeb39",
   "metadata": {},
   "source": [
    "# Filename"
   ]
  },
  {
   "cell_type": "code",
   "execution_count": 65,
   "id": "1d16390a-3463-4a90-a95a-3fa665962661",
   "metadata": {},
   "outputs": [],
   "source": [
    "filename = 'test_ising.dat'\n",
    "data = json.load(open(filename))"
   ]
  },
  {
   "cell_type": "markdown",
   "id": "c4cf48f6-ad88-4ecd-92f9-b02445aa06b6",
   "metadata": {},
   "source": [
    "# Simulation"
   ]
  },
  {
   "cell_type": "code",
   "execution_count": 66,
   "id": "b44557c0-ace6-4d88-a8e0-83b3cca5724f",
   "metadata": {},
   "outputs": [
    {
     "name": "stdout",
     "output_type": "stream",
     "text": [
      "Number of spins 3\n",
      "Beta 5.0\n",
      "Optimizer sgd\n",
      "Gradient spsa\n",
      "Backend qasm_simulator\n",
      "Shots 8192\n",
      "Learning rate 0.01\n",
      "Number of layers 3\n",
      "Threshold 1e-06\n",
      "Final coupling 1.5\n"
     ]
    }
   ],
   "source": [
    "print('Number of spins', data['nspins'])\n",
    "print('Beta', data['beta'])\n",
    "print('Optimizer', data['optimizer'])\n",
    "print('Gradient', data['gradient'])\n",
    "print('Backend', data['backend'])\n",
    "print('Shots', data['shots'])\n",
    "print('Learning rate', data['learning_rate'])\n",
    "print('Number of layers', data['nlayer'])\n",
    "print('Threshold', data['threshold'])\n",
    "print('Final coupling', data['final_coupling'])"
   ]
  },
  {
   "cell_type": "markdown",
   "id": "fe7cc217-a26a-4cc4-b0a1-4199e887c921",
   "metadata": {},
   "source": [
    "# Variational Energy"
   ]
  },
  {
   "cell_type": "code",
   "execution_count": 67,
   "id": "552728a0-9634-4335-9681-70fb6af6aae7",
   "metadata": {},
   "outputs": [
    {
     "name": "stdout",
     "output_type": "stream",
     "text": [
      "Final beta:  30.622587261952983\n"
     ]
    },
    {
     "data": {
      "text/plain": [
       "<matplotlib.legend.Legend at 0x13bba2970>"
      ]
     },
     "execution_count": 67,
     "metadata": {},
     "output_type": "execute_result"
    },
    {
     "data": {
      "image/png": "[encoded data removed]",
      "text/plain": [
       "<Figure size 432x288 with 1 Axes>"
      ]
     },
     "metadata": {
      "needs_background": "light"
     },
     "output_type": "display_data"
    }
   ],
   "source": [
    "from analytic import *\n",
    "from hamiltonian import generate_XYZ\n",
    "\n",
    "\n",
    "beta = data['beta']\n",
    "nspins = data['nspins']\n",
    "J = data['final_coupling']\n",
    "exact, best = get_exact_and_best_for_ising(beta, nspins, final_parameters=(-J, -1.))\n",
    "\n",
    "plt.figure()\n",
    "plt.plot(data['variational_energy'], 'b', label='Optimization')\n",
    "plt.xlabel('Optimization Step')\n",
    "plt.ylabel('Energy')\n",
    "plt.grid()\n",
    "plt.hlines(best, color='r', xmin=0, xmax=len(data['variational_energy']), label='quasi-Gibbs')\n",
    "plt.hlines(exact, color='k', xmin=0, xmax=len(data['variational_energy']), label='Gibbs')\n",
    "plt.legend()"
   ]
  },
  {
   "cell_type": "code",
   "execution_count": null,
   "id": "962546f9-0341-467e-92ca-c7da3c418966",
   "metadata": {},
   "outputs": [],
   "source": []
  },
  {
   "cell_type": "code",
   "execution_count": null,
   "id": "e995cd9d-3895-4569-a4d2-994d987e44d5",
   "metadata": {},
   "outputs": [],
   "source": []
  },
  {
   "cell_type": "code",
   "execution_count": 82,
   "id": "3828fb5c-1d95-47f7-821b-1f18368129a0",
   "metadata": {},
   "outputs": [],
   "source": []
  },
  {
   "cell_type": "code",
   "execution_count": 83,
   "id": "a7441365-e4a6-4d0d-a5b4-c09622cf32a7",
   "metadata": {},
   "outputs": [],
   "source": []
  },
  {
   "cell_type": "code",
   "execution_count": null,
   "id": "2f13054a-8e13-4a26-8fd5-8dbf0e893548",
   "metadata": {},
   "outputs": [],
   "source": []
  },
  {
   "cell_type": "code",
   "execution_count": null,
   "id": "74434302-e144-4809-8253-1e5f10ae366c",
   "metadata": {},
   "outputs": [],
   "source": []
  },
  {
   "cell_type": "code",
   "execution_count": null,
   "id": "51fe0c28-7d42-4933-b565-d67896a62890",
   "metadata": {},
   "outputs": [],
   "source": []
  },
  {
   "cell_type": "code",
   "execution_count": null,
   "id": "a808e2a0-563c-4ba2-8ce1-874a73fd6057",
   "metadata": {},
   "outputs": [],
   "source": []
  }
 ],
 "metadata": {
  "kernelspec": {
   "display_name": "Python 3",
   "language": "python",
   "name": "python3"
  },
  "language_info": {
   "codemirror_mode": {
    "name": "ipython",
    "version": 3
   },
   "file_extension": ".py",
   "mimetype": "text/x-python",
   "name": "python",
   "nbconvert_exporter": "python",
   "pygments_lexer": "ipython3",
   "version": "3.9.2"
  }
 },
 "nbformat": 4,
 "nbformat_minor": 5
}
